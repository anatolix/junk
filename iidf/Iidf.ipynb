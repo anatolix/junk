{
 "cells": [
  {
   "cell_type": "markdown",
   "metadata": {},
   "source": [
    "Тут нарисован прототип типа-монте-карло симуляции работы инвестиционного фонда. Данные пока все выдуманы из головы, а не взяты с рынка. Я если честно не осилил в твоих мега excel-ях разобраться, предлагаю потом постепенно модель усложнять, если это то что тебе надо.\n",
    "\n",
    "Основная идея такая у нас есть 10000 вселенных, в каждой вселенной 1 фонд и 10000 компаний.\n",
    "\n",
    "Все вселенные за раз продвигаются на один цикл. Все рассчеты векторные, т.е. обсчитывают сразу 100M компаний во всех вселенных. Вся хуйня рассчитана допустим на 20 циклов, компании появляются не сразу, а равными долями типа по 1/20 в цикл.\n",
    "\n",
    "На каждом цикле считается cash остаток фонда и стоимость доли компаний в его управлении"
   ]
  },
  {
   "cell_type": "code",
   "execution_count": 1,
   "metadata": {
    "collapsed": true
   },
   "outputs": [],
   "source": [
    "%matplotlib inline\n",
    "\n",
    "import numpy as np\n",
    "import pandas as pd\n",
    "\n",
    "import matplotlib.pyplot as plt\n",
    "from IPython.display import display, HTML"
   ]
  },
  {
   "cell_type": "code",
   "execution_count": 2,
   "metadata": {
    "collapsed": true
   },
   "outputs": [],
   "source": [
    "#тут описана модель. У нас сейчас 10000 вселенных, по 10000 компаний в каждой.\n",
    "time_length = 20\n",
    "universes   = 10000\n",
    "companies   = 10000\n",
    "capitalizations = np.zeros((universes,companies), dtype=float)  #это капитализация компаний\n",
    "fund_share = np.zeros((universes,companies), dtype=float) #это доля фонда в каждой\n",
    "fund_cash = np.ones((universes,), dtype=float)*6000000000.0 \n"
   ]
  },
  {
   "cell_type": "markdown",
   "metadata": {},
   "source": [
    "тут отдельные процедурные шаги, пока пропусти читать иди читай в time_step"
   ]
  },
  {
   "cell_type": "code",
   "execution_count": 3,
   "metadata": {
    "collapsed": false
   },
   "outputs": [],
   "source": [
    "def create_new_companies(caps, step):\n",
    "    \n",
    "    fr = companies//time_length*step\n",
    "    to = companies//time_length*(step+1)\n",
    "    \n",
    "    INIT_CAP=30000000.0 #средняя оценка которую получает компания на старте \n",
    "    CAP_STD=5000000.0 #67% укладываеются в среднюю +/- это число\n",
    "    \n",
    "    caps[:,fr:to]=np.random.normal(loc=INIT_CAP,scale=CAP_STD,size=(universes, to-fr))\n",
    "    \n",
    "    # у нас есть матрица компаний и вселеных, мы на каждом шаге заполняем новые компании\n",
    "    # 0 0 0 0 0 0  =>  X X 0 0 0 0  =>  X X Y Y 0 0\n",
    "    # 0 0 0 0 0 0  =>  X X 0 0 0 0  =>  X X Y Y 0 0\n",
    "    "
   ]
  },
  {
   "cell_type": "code",
   "execution_count": 4,
   "metadata": {
    "collapsed": true
   },
   "outputs": [],
   "source": [
    "def fund_invest_new_companies(caps, share, cash, step):\n",
    "\n",
    "    fr = companies//time_length*step\n",
    "    to = companies//time_length*(step+1)\n",
    "\n",
    "    INVEST_PROBABILITY=0.30\n",
    "    lucky_ones = np.zeros((universes,companies), dtype=bool)\n",
    "    # тут сейчас массив в котором 0 на тех местах где не инвестируем, и 1 где инвестируем.\n",
    "    # 0 0\n",
    "    # 0 1\n",
    "    lucky_ones[:, fr:to] = (np.random.uniform(size=(universes, to-fr)) < INVEST_PROBABILITY)\n",
    "    # тут мы его вставили в массив всех компаний не только новых\n",
    "    # 0 0 0 0 0 0 \n",
    "    # 0 0 0 1 0 0 \n",
    "    \n",
    "    INVEST_AMOUNT=0.07\n",
    "    amounts = lucky_ones*INVEST_AMOUNT\n",
    "    #тут сейчас у нас 7% там где хотим инвестировать.    \n",
    "    # 0 0    \n",
    "    # 0 0.07 \n",
    "\n",
    "    share += amounts\n",
    "    #добавили наше владение в shares, тут в этом случае вообще-то перед этим было у всех 0\n",
    "    # 0 0    0 0      0 0\n",
    "    # 0 0  + 0 0.07 = 0 0.07\n",
    "\n",
    "    #надо понять сколько денег мы потратили\n",
    "    money = caps * amounts\n",
    "    # 30M 30M    0 0      0 0\n",
    "    # 30M 30M  * 0 0.07 = 0 2.1M\n",
    "\n",
    "    cash -= np.sum(money, axis=1)\n"
   ]
  },
  {
   "cell_type": "code",
   "execution_count": 5,
   "metadata": {
    "collapsed": false
   },
   "outputs": [],
   "source": [
    "def progress_old_companies(caps, share, cash, step):\n",
    "    \n",
    "    fr = companies//time_length*step\n",
    "    \n",
    "    if fr==0: return\n",
    "    \n",
    "    NOTHING_PROB=0.5\n",
    "    NEXT_ROUND_PROB=0.1\n",
    "    DEAD_ZOMBIE_PROB=0.2\n",
    "    SOLD_PROB=0.05\n",
    "    DIVIDENDS_PROB=0.15\n",
    "\n",
    "    \n",
    "    probs = np.array([NOTHING_PROB, NEXT_ROUND_PROB, DEAD_ZOMBIE_PROB,SOLD_PROB,DIVIDENDS_PROB])   \n",
    "    results = np.zeros((universes,companies))\n",
    "    results[:,0:fr] = np.random.choice(probs.shape[0], size=(universes,fr), replace=True, p=probs)    \n",
    "    \n",
    "    def do_nothing(mask, caps, share, cash, step):\n",
    "        pass\n",
    "    \n",
    "    def dead_zombie(mask, caps, share, cash, step):\n",
    "        caps[mask]=0\n",
    "    \n",
    "    def next_round(mask, caps, share, cash, step):\n",
    "    \n",
    "        n = np.sum(mask) #количество компаний в выборке.\n",
    "        \n",
    "        #  тут походу надо сделать по твоей табличке, но мне лень поэтому я \n",
    "        #  сделаю тупо вот так сам переделай как надо\n",
    "        \n",
    "        #  на каждой стадии валуация растет в среднем 10 раз, со стандартным отклонением в 3 раза.\n",
    "        \n",
    "        INCREASE=5\n",
    "        INCREASE_STD=2\n",
    "        \n",
    "        val_increment = np.random.normal(loc=INCREASE,scale=INCREASE_STD, size=n)\n",
    "        \n",
    "        caps[mask]*=val_increment\n",
    "        \n",
    "    def sold(mask, caps, share, cash, step):\n",
    "\n",
    "        # посчитали сколько стоит наша доля.\n",
    "        money = caps * mask\n",
    "        \n",
    "        #обнулили нашу долю\n",
    "        share[mask]=0\n",
    "        \n",
    "        #сложили по столбцам в каждой вселенной\n",
    "        cash+=np.sum(money, axis=1)\n",
    "\n",
    "    def dividends(mask, caps, share, cash, step):\n",
    "        \n",
    "        # посчитали сколько стоит наша доля.\n",
    "        money = caps * mask\n",
    "\n",
    "        # для каждой компании посчитали дивиденты в зависимости от капитализации\n",
    "        \n",
    "        DIV_TARGET=5\n",
    "        DIV_STD=2\n",
    "        \n",
    "        dividends = np.random.normal(loc=DIV_TARGET,scale=DIV_STD, size=(universes, companies))\n",
    "                \n",
    "        #сложили по столбцам в каждой вселенной, добавили в cash фонда в этой вселенной\n",
    "        cash+=np.sum(money, axis=1)\n",
    "\n",
    "        \n",
    "    results[caps==0]=0  #с мертвыми и зомби никогда ничего не происходит.\n",
    "    do_nothing(results==0, caps, share, cash, step)\n",
    "    next_round(results==1, caps, share, cash, step)\n",
    "    dead_zombie(results==2, caps, share, cash, step)\n",
    "    sold(results==3, caps, share, cash, step)\n",
    "    dividends(results==4, caps, share, cash, step)\n",
    "\n"
   ]
  },
  {
   "cell_type": "code",
   "execution_count": 6,
   "metadata": {
    "collapsed": false
   },
   "outputs": [],
   "source": [
    "def fund_invest_old_companies(caps, share, cash, step):\n",
    "\n",
    "    fr = companies//time_length*step\n",
    "    to = companies//time_length*(step+1)\n",
    "\n",
    "    INVEST_PROBABILITY=0.10\n",
    "    lucky_ones = np.zeros((universes,companies), dtype=bool)\n",
    "    lucky_ones[:, fr:to] = (np.random.uniform(size=(universes, to-fr)) < INVEST_PROBABILITY)\n",
    "    \n",
    "    INVEST_AMOUNT=0.1\n",
    "    amounts = lucky_ones*INVEST_AMOUNT\n",
    "\n",
    "    share += amounts\n",
    "\n",
    "    #надо понять сколько денег мы потратили\n",
    "    money = caps * amounts\n",
    "\n",
    "    cash -= np.sum(money, axis=1)\n",
    "\n"
   ]
  },
  {
   "cell_type": "code",
   "execution_count": null,
   "metadata": {
    "collapsed": false
   },
   "outputs": [],
   "source": []
  },
  {
   "cell_type": "code",
   "execution_count": 7,
   "metadata": {
    "collapsed": true
   },
   "outputs": [],
   "source": [
    "time = 0 #мультивселенная создана"
   ]
  },
  {
   "cell_type": "code",
   "execution_count": null,
   "metadata": {
    "collapsed": true
   },
   "outputs": [],
   "source": []
  },
  {
   "cell_type": "code",
   "execution_count": 8,
   "metadata": {
    "collapsed": true
   },
   "outputs": [],
   "source": [
    "def time_step(caps, share, cash, step): #Это функция которая двигает время на шаг.\n",
    "    \n",
    "    caps = caps.copy()  #чтобы не писать в старые массивы, а создавать новые, \n",
    "    share = share.copy() #вдруг мы решим историю хранить \n",
    "    \n",
    "    create_new_companies(caps,step)\n",
    "    fund_invest_new_companies(caps, share, cash, step)\n",
    "    \n",
    "    progress_old_companies(caps, share, cash, step)\n",
    "    fund_invest_old_companies(caps, share, cash, step)\n",
    "    \n",
    "    return (caps,share,cash)"
   ]
  },
  {
   "cell_type": "code",
   "execution_count": null,
   "metadata": {
    "collapsed": false
   },
   "outputs": [
    {
     "name": "stdout",
     "output_type": "stream",
     "text": [
      "[  6.00000000e+09   6.00000000e+09   6.00000000e+09   5.48522700e+09\n",
      "   5.53543800e+09   5.58466900e+09]\n",
      "[  8.62258600e+09   9.05896600e+09   9.52816500e+09   7.61566600e+09\n",
      "   8.05818000e+09   8.52043800e+09]\n",
      "[  1.47240870e+10   1.57958120e+10   1.69618930e+10   1.31105940e+10\n",
      "   1.41783830e+10   1.53399580e+10]\n",
      "[  2.47086780e+10   2.68579410e+10   2.95538970e+10   2.24634550e+10\n",
      "   2.45554820e+10   2.71535430e+10]\n",
      "[  3.91311720e+10   4.30921230e+10   4.85661030e+10   3.61321480e+10\n",
      "   3.99698400e+10   4.53088040e+10]\n",
      "[  5.88205680e+10   6.53530990e+10   7.61607750e+10   5.49283400e+10\n",
      "   6.13076510e+10   7.18318330e+10]\n"
     ]
    }
   ],
   "source": [
    "columns=[\"cap_05\",\"cap\",\"cap_95\",\"cash_05\",\"cash\",\"cash_95\"]\n",
    "results = pd.DataFrame(np.zeros((time_length,len(columns)),dtype=float),columns=columns)\n",
    "\n",
    "for time in range(time_length):\n",
    "    capitalizations, fund_share, fund_cash = time_step(capitalizations, fund_share, fund_cash, time)\n",
    "    fund_cap = np.sum(capitalizations * fund_share, axis=1) + fund_cash\n",
    "    \n",
    "    a=np.percentile(a=fund_cap,q=(5,50,95))\n",
    "    results.iloc[time,0:3]=a\n",
    "    b=np.percentile(a=fund_cash,q=(5,50,95))\n",
    "    results.iloc[time,3:6]=b\n",
    "    print(results.iloc[time,:].values.round(-3))\n",
    "    \n",
    "results.plot()"
   ]
  },
  {
   "cell_type": "code",
   "execution_count": null,
   "metadata": {
    "collapsed": false
   },
   "outputs": [],
   "source": []
  },
  {
   "cell_type": "code",
   "execution_count": null,
   "metadata": {
    "collapsed": false
   },
   "outputs": [],
   "source": []
  },
  {
   "cell_type": "code",
   "execution_count": null,
   "metadata": {
    "collapsed": false
   },
   "outputs": [],
   "source": []
  },
  {
   "cell_type": "markdown",
   "metadata": {},
   "source": []
  },
  {
   "cell_type": "code",
   "execution_count": null,
   "metadata": {
    "collapsed": true
   },
   "outputs": [],
   "source": []
  }
 ],
 "metadata": {
  "anaconda-cloud": {},
  "kernelspec": {
   "display_name": "Python [conda root]",
   "language": "python",
   "name": "conda-root-py"
  },
  "language_info": {
   "codemirror_mode": {
    "name": "ipython",
    "version": 3
   },
   "file_extension": ".py",
   "mimetype": "text/x-python",
   "name": "python",
   "nbconvert_exporter": "python",
   "pygments_lexer": "ipython3",
   "version": "3.5.2"
  }
 },
 "nbformat": 4,
 "nbformat_minor": 1
}
